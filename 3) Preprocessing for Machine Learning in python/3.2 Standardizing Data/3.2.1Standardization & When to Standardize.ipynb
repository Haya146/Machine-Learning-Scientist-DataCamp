{
  "nbformat": 4,
  "nbformat_minor": 0,
  "metadata": {
    "colab": {
      "provenance": []
    },
    "kernelspec": {
      "name": "python3",
      "display_name": "Python 3"
    },
    "language_info": {
      "name": "python"
    }
  },
  "cells": [
    {
      "cell_type": "markdown",
      "source": [
        "# What is standradization ?     \n",
        "**Standradization**: Transform continuous data to appear normally distributed     \n",
        "- **Sickit-learn** models assume normally distributed data   \n",
        "- Using non-normal training data can introduce bias\n",
        "- **Long Normalization** and **Feature Scaling**\n",
        "- Applied to continuous numerical data"
      ],
      "metadata": {
        "id": "HW12n9mDCLas"
      }
    },
    {
      "cell_type": "markdown",
      "source": [
        "# When to standardize: linear distances    \n",
        "- Model in linear space    \n",
        "Examples:   \n",
        " - k-Nearest Neighbors (kNN)\n",
        " - Linear regression\n",
        " - K-Means Clustering"
      ],
      "metadata": {
        "id": "wFbgm5-JDrRB"
      }
    },
    {
      "cell_type": "markdown",
      "source": [
        "# When to standardize: high variance\n",
        "- Model in linear space         \n",
        "Examples:\n",
        " - k-Nearest Neighbors (kNN)\n",
        " - Linear regression\n",
        " - K-Means Clustering\n",
        "- Dataset features have high variance"
      ],
      "metadata": {
        "id": "xuxU9AkRD6pX"
      }
    },
    {
      "cell_type": "markdown",
      "source": [
        "# When to standardize: different scales\n",
        "- Features are on different scales    \n",
        "Example:       \n",
        " - Predicting house prices using no. bedrooms and last sale price        \n",
        "- Linearity assumptions"
      ],
      "metadata": {
        "id": "BUIu3avBEKCE"
      }
    }
  ]
}