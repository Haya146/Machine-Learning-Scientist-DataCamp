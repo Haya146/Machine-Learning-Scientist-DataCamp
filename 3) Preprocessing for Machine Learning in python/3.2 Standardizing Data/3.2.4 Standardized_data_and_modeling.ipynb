{
  "nbformat": 4,
  "nbformat_minor": 0,
  "metadata": {
    "colab": {
      "provenance": []
    },
    "kernelspec": {
      "name": "python3",
      "display_name": "Python 3"
    },
    "language_info": {
      "name": "python"
    }
  },
  "cells": [
    {
      "cell_type": "markdown",
      "source": [
        "## K-nearest neighbors"
      ],
      "metadata": {
        "id": "Tq1G5kq-OHFD"
      }
    },
    {
      "cell_type": "markdown",
      "source": [
        "- Data Lackage : non-trainnig data is used to train the model"
      ],
      "metadata": {
        "id": "ir-1PnsfOkkG"
      }
    },
    {
      "cell_type": "code",
      "execution_count": 1,
      "metadata": {
        "id": "KAs-ArfXOGhr"
      },
      "outputs": [],
      "source": [
        "from sklearn.model_selection import train_test_split\n",
        "from sklearn.neighbors import KNeighborsClassifier\n",
        "from sklearn.preprocessing import StandardScaler"
      ]
    },
    {
      "cell_type": "code",
      "source": [
        "x_train,x_test,y_train,y_test = train_test_split(x,y,test_size=0.2)\n",
        "knn = KNeighborsClassifier(n_neighbors=5)\n",
        "scaler = StandardScaler()\n",
        "\n",
        "x_train = scaler.transform(x_train)\n",
        "x_test = scaler.transform_fit(x_test)\n",
        "\n",
        "knn.fit(x_train,y_train)\n",
        "knn.score(x_test,y_test)"
      ],
      "metadata": {
        "id": "vKsBQp73OeZJ"
      },
      "execution_count": null,
      "outputs": []
    }
  ]
}
