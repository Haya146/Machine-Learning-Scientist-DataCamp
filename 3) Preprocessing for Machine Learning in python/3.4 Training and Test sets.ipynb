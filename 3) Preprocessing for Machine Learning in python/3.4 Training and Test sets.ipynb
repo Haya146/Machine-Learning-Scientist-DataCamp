{
  "nbformat": 4,
  "nbformat_minor": 0,
  "metadata": {
    "colab": {
      "provenance": []
    },
    "kernelspec": {
      "name": "python3",
      "display_name": "Python 3"
    },
    "language_info": {
      "name": "python"
    }
  },
  "cells": [
    {
      "cell_type": "markdown",
      "source": [
        "**Why split ?**:    \n",
        "\n",
        "\n",
        "1.   Reduces Overfitting\n",
        "2.   Evaluate performance on a holdout sets      \n",
        "\n"
      ],
      "metadata": {
        "id": "zDrMloAhpwc6"
      }
    },
    {
      "cell_type": "markdown",
      "source": [
        "## Splitting your dataset"
      ],
      "metadata": {
        "id": "HtPMWo4AqOZ5"
      }
    },
    {
      "cell_type": "markdown",
      "source": [
        "\n",
        "\n",
        "```\n",
        "from sklearn.model_selection import train_test_split       \n",
        "X_train, X_test, y_train, y_test = train_test_split(x,y, test_size= 0.2, random_state = 42)\n",
        "```\n",
        "\n"
      ],
      "metadata": {
        "id": "Rx-93LFkqQGW"
      }
    },
    {
      "cell_type": "markdown",
      "source": [
        "## Startified Sampling"
      ],
      "metadata": {
        "id": "rLYj2i2BqXME"
      }
    },
    {
      "cell_type": "markdown",
      "source": [
        "- Dataset of 100 samples: 80 class 1 and 20 class 2        \n",
        "- Training set of 75 samples: 60 class 1 and 15 class 2            \n",
        "- Test set of 25 samples: 20 class 1 and 5 class 2            "
      ],
      "metadata": {
        "id": "YCdWlw-ArxXB"
      }
    },
    {
      "cell_type": "markdown",
      "source": [
        "\n",
        "\n",
        "```\n",
        "X_train,X_test,y_train,y_test = train_test_split(X, y, stratify=y, random_state=42)\n",
        "```\n",
        "```\n",
        "y[\"labels\"].value_counts()\n",
        "```\n",
        "\n",
        "**Output**:         \n",
        "\n",
        "class1 80       \n",
        "class2 20          \n",
        "Name: labels, dtype: int64     \n",
        "\n"
      ],
      "metadata": {
        "id": "e7Vp5ZH8sHeF"
      }
    },
    {
      "cell_type": "markdown",
      "source": [
        "\n",
        "\n",
        "```\n",
        "y_train[\"labels\"].value_counts()\n",
        "```\n",
        "\n",
        "**Output**:         \n",
        "\n",
        "class1 60             \n",
        "class2 15              \n",
        "Name: labels, dtype: int64    "
      ],
      "metadata": {
        "id": "smmQbNrQsx0q"
      }
    },
    {
      "cell_type": "markdown",
      "source": [
        "\n",
        "\n",
        "```\n",
        "y_test[\"labels\"].value_counts()\n",
        "```\n",
        "**output**:    \n",
        "\n",
        "class1 20    \n",
        "class2 5       \n",
        "Name: labels, dtype: int64       \n"
      ],
      "metadata": {
        "id": "SgST6iwLtD19"
      }
    }
  ]
}